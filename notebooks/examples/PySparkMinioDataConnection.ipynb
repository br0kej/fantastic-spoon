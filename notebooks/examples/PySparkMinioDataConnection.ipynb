{
 "cells": [
  {
   "cell_type": "markdown",
   "metadata": {},
   "source": [
    "# PySpark S3 Data Connection\n",
    "\n",
    "This notebook can be used as a means of testing the connection between Jupyter Lab, Minio and the Spark Master. It creates a new `SparkContext`, submits the job to the Spark master to collect a file from Minio and then prints the header."
   ]
  },
  {
   "cell_type": "code",
   "execution_count": 1,
   "metadata": {},
   "outputs": [],
   "source": [
    "from pyspark import SparkContext, SparkConf"
   ]
  },
  {
   "cell_type": "code",
   "execution_count": 2,
   "metadata": {},
   "outputs": [],
   "source": [
    "APP_NAME='PullingFromS3'\n",
    "\n",
    "MINIO_URL = 'http://minio:9000'\n",
    "MINIO_KEY = 'ACCESSKEY' # CHECK THESE ARE VALID\n",
    "MINIO_SECRET = 'VERYSECRETACCESSKEY' # CHECK THESE ARE VALID\n",
    "SPARK_CONTROLLER = 'spark://spark-master:7077'"
   ]
  },
  {
   "cell_type": "code",
   "execution_count": 3,
   "metadata": {},
   "outputs": [],
   "source": [
    "conf = (SparkConf()\n",
    "        .setAppName(APP_NAME)\n",
    "        .set(\"spark.hadoop.fs.s3a.endpoint\", MINIO_URL)\n",
    "        .set(\"spark.hadoop.fs.s3a.access.key\", MINIO_KEY)\n",
    "        .set(\"spark.hadoop.fs.s3a.secret.key\", MINIO_SECRET)\n",
    "        .set(\"spark.hadoop.fs.s3a.path.style.access\", True)\n",
    "        .set(\"spark.hadoop.fs.s3a.impl\", \"org.apache.hadoop.fs.s3a.S3AFileSystem\")\n",
    "        .setMaster(SPARK_CONTROLLER)\n",
    ")\n",
    "sc = SparkContext(conf=conf).getOrCreate()"
   ]
  },
  {
   "cell_type": "code",
   "execution_count": 4,
   "metadata": {},
   "outputs": [],
   "source": [
    "SAMPLE_FILE = 's3a://sample-data/sample-data.csv'"
   ]
  },
  {
   "cell_type": "code",
   "execution_count": 5,
   "metadata": {},
   "outputs": [],
   "source": [
    "train = sc.textFile(SAMPLE_FILE).map(lambda line: line.split(\",\")).collect()"
   ]
  },
  {
   "cell_type": "code",
   "execution_count": 6,
   "metadata": {},
   "outputs": [
    {
     "data": {
      "text/plain": [
       "['',\n",
       " 'datetime',\n",
       " 'host',\n",
       " 'src',\n",
       " 'proto',\n",
       " 'type',\n",
       " 'spt',\n",
       " 'dpt',\n",
       " 'srcstr',\n",
       " 'cc',\n",
       " 'country',\n",
       " 'locale',\n",
       " 'latitude',\n",
       " 'longitude',\n",
       " 'Unnamed: 15',\n",
       " 'ts',\n",
       " 'ts_date',\n",
       " 'year',\n",
       " 'month',\n",
       " 'day',\n",
       " 'hour',\n",
       " 'minute']"
      ]
     },
     "execution_count": 6,
     "metadata": {},
     "output_type": "execute_result"
    }
   ],
   "source": [
    "train[0]"
   ]
  },
  {
   "cell_type": "code",
   "execution_count": null,
   "metadata": {},
   "outputs": [],
   "source": [
    "sc.stop()"
   ]
  }
 ],
 "metadata": {
  "kernelspec": {
   "display_name": "Python (py37)",
   "language": "python",
   "name": "py37"
  },
  "language_info": {
   "codemirror_mode": {
    "name": "ipython",
    "version": 3
   },
   "file_extension": ".py",
   "mimetype": "text/x-python",
   "name": "python",
   "nbconvert_exporter": "python",
   "pygments_lexer": "ipython3",
   "version": "3.7.10"
  }
 },
 "nbformat": 4,
 "nbformat_minor": 4
}
