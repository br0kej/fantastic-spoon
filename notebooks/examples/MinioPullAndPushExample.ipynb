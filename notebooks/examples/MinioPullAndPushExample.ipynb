{
 "cells": [
  {
   "cell_type": "markdown",
   "metadata": {},
   "source": [
    "# Example - Pushing Files to Minio\n",
    "\n",
    "This notebooks provides sample code and a walkthrough on how to push and pull data to Minio. \n",
    "\n",
    "## Import Libraries"
   ]
  },
  {
   "cell_type": "code",
   "execution_count": 1,
   "metadata": {},
   "outputs": [],
   "source": [
    "from minio import Minio\n",
    "from minio.error import (ResponseError, BucketAlreadyOwnedByYou,\n",
    "                         BucketAlreadyExists)"
   ]
  },
  {
   "cell_type": "markdown",
   "metadata": {},
   "source": [
    "## Setup Minio Client\n",
    "\n",
    "*Note: `minio:9000` points to the same place as `localhost:9000` but because we are making the request from another docker container in the same network, we can use the containers name.* "
   ]
  },
  {
   "cell_type": "code",
   "execution_count": 2,
   "metadata": {},
   "outputs": [],
   "source": [
    "minioClient = Minio('minio:9000',\n",
    "                  access_key='ACCESSKEY',\n",
    "                  secret_key='VERYSECRETACCESSKEY',\n",
    "                  secure=False)"
   ]
  },
  {
   "cell_type": "markdown",
   "metadata": {},
   "source": [
    "## Create A New Bucket\n",
    "\n",
    "This creates a *bucket* which can be viewed exactly the same as a directory."
   ]
  },
  {
   "cell_type": "code",
   "execution_count": 3,
   "metadata": {},
   "outputs": [],
   "source": [
    "try:\n",
    "       minioClient.make_bucket(\"sample-data\")\n",
    "except BucketAlreadyOwnedByYou as err:\n",
    "       pass\n",
    "except BucketAlreadyExists as err:\n",
    "       pass\n",
    "except ResponseError as err:\n",
    "       raise"
   ]
  },
  {
   "cell_type": "markdown",
   "metadata": {},
   "source": [
    "## Push some sample data\n",
    "\n",
    "This reads the contents of `sample-data/sample-data.csv` and writes it 5 times, incrementing the filenames, to the bucket we just setup."
   ]
  },
  {
   "cell_type": "code",
   "execution_count": 5,
   "metadata": {},
   "outputs": [],
   "source": [
    "try:\n",
    "    for i in range(5):\n",
    "       minioClient.fput_object('sample-data', f'sample-data-{i}.csv',  '../../sample-data/sample-data.csv')\n",
    "except ResponseError as err:\n",
    "       print(err)"
   ]
  },
  {
   "cell_type": "markdown",
   "metadata": {},
   "source": [
    "## Query Metadata & List Files in Bucket\n",
    "\n",
    "This queries the API and returns a list of all of the objects (csv files in this case) in the target bucket."
   ]
  },
  {
   "cell_type": "code",
   "execution_count": 6,
   "metadata": {},
   "outputs": [
    {
     "name": "stdout",
     "output_type": "stream",
     "text": [
      "Bucket Name: sample-data\n",
      "Object Name: sample-data-0.csv\n",
      "Last Modified: 2020-11-23 13:57:00.851000+00:00\n",
      "Object Size: 80999\n",
      "\n",
      "\n",
      "Bucket Name: sample-data\n",
      "Object Name: sample-data-1.csv\n",
      "Last Modified: 2020-11-23 13:57:00.868000+00:00\n",
      "Object Size: 80999\n",
      "\n",
      "\n",
      "Bucket Name: sample-data\n",
      "Object Name: sample-data-2.csv\n",
      "Last Modified: 2020-11-23 13:57:00.879000+00:00\n",
      "Object Size: 80999\n",
      "\n",
      "\n",
      "Bucket Name: sample-data\n",
      "Object Name: sample-data-3.csv\n",
      "Last Modified: 2020-11-23 13:57:00.892000+00:00\n",
      "Object Size: 80999\n",
      "\n",
      "\n",
      "Bucket Name: sample-data\n",
      "Object Name: sample-data-4.csv\n",
      "Last Modified: 2020-11-23 13:57:00.915000+00:00\n",
      "Object Size: 80999\n",
      "\n",
      "\n",
      "Bucket Name: sample-data\n",
      "Object Name: sample-data.csv\n",
      "Last Modified: 2020-11-23 13:43:55.383000+00:00\n",
      "Object Size: 80999\n",
      "\n",
      "\n"
     ]
    }
   ],
   "source": [
    "objects = minioClient.list_objects_v2('sample-data')\n",
    "for object in objects:\n",
    "    print(f'Bucket Name: {object.bucket_name}')\n",
    "    print(f'Object Name: {object.object_name}')\n",
    "    print(f'Last Modified: {object.last_modified}')\n",
    "    print(f'Object Size: {object.size}\\n\\n')"
   ]
  },
  {
   "cell_type": "code",
   "execution_count": null,
   "metadata": {},
   "outputs": [],
   "source": []
  },
  {
   "cell_type": "code",
   "execution_count": null,
   "metadata": {},
   "outputs": [],
   "source": []
  }
 ],
 "metadata": {
  "kernelspec": {
   "display_name": "Python (py37)",
   "language": "python",
   "name": "py37"
  },
  "language_info": {
   "codemirror_mode": {
    "name": "ipython",
    "version": 3
   },
   "file_extension": ".py",
   "mimetype": "text/x-python",
   "name": "python",
   "nbconvert_exporter": "python",
   "pygments_lexer": "ipython3",
   "version": "3.7.8"
  }
 },
 "nbformat": 4,
 "nbformat_minor": 4
}
